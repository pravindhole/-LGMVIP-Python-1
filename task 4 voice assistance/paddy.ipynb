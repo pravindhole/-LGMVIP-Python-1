{
 "cells": [
  {
   "cell_type": "code",
   "execution_count": 11,
   "id": "a8bded9c-67e8-4474-8610-747ea92792fd",
   "metadata": {},
   "outputs": [],
   "source": [
    "# ! pip install SpeechRecognition\n",
    "# !pip install pyttsx3\n",
    "# !pip install PyAudio\n",
    "#! pip install pywhatkit"
   ]
  },
  {
   "cell_type": "code",
   "execution_count": null,
   "id": "8b682e8c-9e9b-4ab7-a97b-fd8a28348981",
   "metadata": {},
   "outputs": [],
   "source": [
    "import speech_recognition as aa\n",
    "import pyttsx3\n",
    "import pywhatkit\n",
    "import datetime\n",
    "import wikipedia"
   ]
  },
  {
   "cell_type": "code",
   "execution_count": 1,
   "id": "fdfe9be1-69cb-4a4b-993c-50cd00b150fb",
   "metadata": {},
   "outputs": [
    {
     "ename": "NameError",
     "evalue": "name 'aa' is not defined",
     "output_type": "error",
     "traceback": [
      "\u001b[1;31m---------------------------------------------------------------------------\u001b[0m",
      "\u001b[1;31mNameError\u001b[0m                                 Traceback (most recent call last)",
      "\u001b[1;32m~\\AppData\\Local\\Temp\\ipykernel_9680\\3657261456.py\u001b[0m in \u001b[0;36m<cell line: 1>\u001b[1;34m()\u001b[0m\n\u001b[1;32m----> 1\u001b[1;33m \u001b[0mlistener\u001b[0m \u001b[1;33m=\u001b[0m \u001b[0maa\u001b[0m\u001b[1;33m.\u001b[0m\u001b[0mRecognizer\u001b[0m\u001b[1;33m(\u001b[0m\u001b[1;33m)\u001b[0m\u001b[1;33m\u001b[0m\u001b[1;33m\u001b[0m\u001b[0m\n\u001b[0m\u001b[0;32m      2\u001b[0m \u001b[0mmachine\u001b[0m \u001b[1;33m=\u001b[0m \u001b[0mpyttsx3\u001b[0m\u001b[1;33m.\u001b[0m\u001b[0minit\u001b[0m\u001b[1;33m(\u001b[0m\u001b[1;33m)\u001b[0m\u001b[1;33m\u001b[0m\u001b[1;33m\u001b[0m\u001b[0m\n\u001b[0;32m      3\u001b[0m \u001b[1;33m\u001b[0m\u001b[0m\n\u001b[0;32m      4\u001b[0m \u001b[1;32mdef\u001b[0m \u001b[0mtalk\u001b[0m\u001b[1;33m(\u001b[0m\u001b[0mtext\u001b[0m\u001b[1;33m)\u001b[0m\u001b[1;33m:\u001b[0m\u001b[1;33m\u001b[0m\u001b[1;33m\u001b[0m\u001b[0m\n\u001b[0;32m      5\u001b[0m     \u001b[0mmachine\u001b[0m\u001b[1;33m.\u001b[0m\u001b[0msay\u001b[0m\u001b[1;33m(\u001b[0m\u001b[0mtext\u001b[0m\u001b[1;33m)\u001b[0m\u001b[1;33m\u001b[0m\u001b[1;33m\u001b[0m\u001b[0m\n",
      "\u001b[1;31mNameError\u001b[0m: name 'aa' is not defined"
     ]
    }
   ],
   "source": [
    "listener = aa.Recognizer()\n",
    "machine = pyttsx3.init()\n",
    "\n",
    "def talk(text):\n",
    "    machine.say(text)\n",
    "    machine.runAndWait()\n",
    "\n",
    "def input_instruction():\n",
    "    try:\n",
    "        with aa.Microphone() as origin:\n",
    "            print(\"Listening.......\")\n",
    "            speech = listener.listen(origin)\n",
    "            instruction = listener.recognize_google(speech)\n",
    "            instruction = instruction.lower()\n",
    "            if \"paddy\" in instruction:\n",
    "                instruction = instruction.replace('paddy',' ')\n",
    "                print(instruction)\n",
    "            return instruction\n",
    "    except aa.UnknownValueError:\n",
    "        talk(\"Sorry, I couldn't understand that.\")\n",
    "        return \"\"\n",
    "    except aa.RequestError:\n",
    "        talk(\"Sorry, there was an issue with the service.\")\n",
    "        return \"\"\n",
    "    except Exception as e:\n",
    "        print(e)\n",
    "        talk(\"Sorry, there was an error.\")\n",
    "        return \"\"\n",
    "\n",
    "def play_paddy():\n",
    "    instruction = input_instruction()\n",
    "    print(instruction)\n",
    "    if \"play\" in instruction:\n",
    "        song = instruction.replace(\"play\",\"\")\n",
    "        talk(\"playing\" + song)\n",
    "        pywhatkit.playonyt(song)\n",
    "        \n",
    "    elif \"time\" in instruction:\n",
    "        time = datetime.datetime.now().strftime(\"%I:%M%p\")\n",
    "        talk(\"Current Time\" + time)\n",
    "\n",
    "    elif \"date\" in instruction:\n",
    "        date = datetime.datetime.now().strftime(\"%d /%m %Y\")\n",
    "        talk(\"Todays Date\" + date)\n",
    "        \n",
    "    elif \"how are you\" in instruction:\n",
    "        talk(\"I am fine, how about you\")\n",
    "        \n",
    "    elif \"what is your name\" in instruction:\n",
    "        talk(\"I am paddy, what can I do for you?\")\n",
    "        \n",
    "    elif \"who is\" in instruction:\n",
    "        human = instruction.replace('who is', \"\")\n",
    "        info = wikipedia.summary(human, 1)\n",
    "        print(info)\n",
    "        talk(info)\n",
    "    \n",
    "    else:\n",
    "        talk(\"Please Repeat\")\n",
    "        \n",
    "play_paddy()"
   ]
  },
  {
   "cell_type": "code",
   "execution_count": 10,
   "id": "3c0879f7-a350-4f35-bfdb-763a7985fe7e",
   "metadata": {},
   "outputs": [],
   "source": [
    "import pyttsx3\n",
    "\n",
    "# Initialize the text-to-speech engine\n",
    "engine = pyttsx3.init()\n",
    "\n",
    "# Test the engine by speaking something\n",
    "engine.say(\"Hello, how are you?\")\n",
    "engine.runAndWait()\n"
   ]
  },
  {
   "cell_type": "code",
   "execution_count": null,
   "id": "52c5828b-0668-489f-b70a-bffc8deb9baf",
   "metadata": {},
   "outputs": [],
   "source": []
  }
 ],
 "metadata": {
  "kernelspec": {
   "display_name": "Python 3 (ipykernel)",
   "language": "python",
   "name": "python3"
  },
  "language_info": {
   "codemirror_mode": {
    "name": "ipython",
    "version": 3
   },
   "file_extension": ".py",
   "mimetype": "text/x-python",
   "name": "python",
   "nbconvert_exporter": "python",
   "pygments_lexer": "ipython3",
   "version": "3.10.8"
  }
 },
 "nbformat": 4,
 "nbformat_minor": 5
}
